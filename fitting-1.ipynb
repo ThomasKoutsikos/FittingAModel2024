{
 "cells": [
  {
   "cell_type": "code",
   "execution_count": null,
   "id": "higher-sally",
   "metadata": {},
   "outputs": [],
   "source": [
    "] add CSV"
   ]
  },
  {
   "cell_type": "code",
   "execution_count": null,
   "id": "double-setting",
   "metadata": {},
   "outputs": [],
   "source": [
    "] add DataFrames"
   ]
  },
  {
   "cell_type": "code",
   "execution_count": null,
   "id": "designing-nitrogen",
   "metadata": {},
   "outputs": [],
   "source": [
    "using CSV\n",
    "using DataFrames"
   ]
  },
  {
   "cell_type": "code",
   "execution_count": null,
   "id": "prerequisite-orientation",
   "metadata": {},
   "outputs": [],
   "source": [
    "alldata = CSV.read(\"data.csv\", DataFrame);"
   ]
  },
  {
   "cell_type": "code",
   "execution_count": null,
   "id": "bored-theta",
   "metadata": {},
   "outputs": [],
   "source": [
    "size(alldata)"
   ]
  },
  {
   "cell_type": "code",
   "execution_count": null,
   "id": "junior-bacteria",
   "metadata": {},
   "outputs": [],
   "source": [
    "data = alldata[5:end, :];"
   ]
  },
  {
   "cell_type": "code",
   "execution_count": null,
   "id": "leading-contribution",
   "metadata": {},
   "outputs": [],
   "source": [
    "size(data)"
   ]
  },
  {
   "cell_type": "code",
   "execution_count": null,
   "id": "under-horror",
   "metadata": {},
   "outputs": [],
   "source": [
    "data.x"
   ]
  },
  {
   "cell_type": "code",
   "execution_count": null,
   "id": "vertical-jerusalem",
   "metadata": {},
   "outputs": [],
   "source": [
    "using WGLMakie"
   ]
  },
  {
   "cell_type": "code",
   "execution_count": null,
   "id": "outside-scenario",
   "metadata": {},
   "outputs": [],
   "source": [
    "f = Figure()\n",
    "Axis(f[1, 1])\n",
    "errorbars!(data.x, data.y, data.sigma_y)\n",
    "scatter!(data.x, data.y, markersize=20, color=:red)\n",
    "f"
   ]
  },
  {
   "cell_type": "code",
   "execution_count": null,
   "id": "initial-investigation",
   "metadata": {},
   "outputs": [],
   "source": [
    "b_eye = 50.\n",
    "m_eye = 2."
   ]
  },
  {
   "cell_type": "code",
   "execution_count": null,
   "id": "amino-hughes",
   "metadata": {},
   "outputs": [],
   "source": [
    "xx = LinRange(50, 250, 20)"
   ]
  },
  {
   "cell_type": "code",
   "execution_count": null,
   "id": "variable-graph",
   "metadata": {},
   "outputs": [],
   "source": [
    "f = Figure()\n",
    "Axis(f[1, 1])\n",
    "errorbars!(data.x, data.y, data.sigma_y)\n",
    "scatter!(data.x, data.y, markersize=20, color=:red)\n",
    "\n",
    "yy_eye = xx .* m_eye .+ b_eye\n",
    "lines!(xx, yy_eye)\n",
    "\n",
    "f"
   ]
  },
  {
   "cell_type": "code",
   "execution_count": null,
   "id": "advised-amazon",
   "metadata": {},
   "outputs": [],
   "source": [
    "] add Optim"
   ]
  },
  {
   "cell_type": "code",
   "execution_count": null,
   "id": "promotional-abraham",
   "metadata": {},
   "outputs": [],
   "source": [
    "using Optim"
   ]
  },
  {
   "cell_type": "code",
   "execution_count": null,
   "id": "electoral-marsh",
   "metadata": {},
   "outputs": [],
   "source": [
    "function objective(parameters)\n",
    "    b = parameters[1]\n",
    "    m = parameters[2]\n",
    "    @show b, m\n",
    "    return abs(b - 3.4) + abs(m - 17)\n",
    "end"
   ]
  },
  {
   "cell_type": "code",
   "execution_count": null,
   "id": "occasional-probe",
   "metadata": {},
   "outputs": [],
   "source": [
    "function objective_2(parameters)\n",
    "    b = parameters[1]\n",
    "    m = parameters[2]\n",
    "\n",
    "    y_pred = b .+ m .* data.x\n",
    "    \n",
    "    return sum(abs.(data.y .- y_pred))\n",
    "end"
   ]
  },
  {
   "cell_type": "code",
   "execution_count": null,
   "id": "flush-metadata",
   "metadata": {},
   "outputs": [],
   "source": [
    "starting_params = [b_eye + 0., m_eye]\n",
    "result = optimize(objective_2, starting_params)"
   ]
  },
  {
   "cell_type": "code",
   "execution_count": null,
   "id": "likely-plate",
   "metadata": {},
   "outputs": [],
   "source": [
    "b_abs, m_abs = Optim.minimizer(result)"
   ]
  },
  {
   "cell_type": "code",
   "execution_count": null,
   "id": "beneficial-sight",
   "metadata": {},
   "outputs": [],
   "source": [
    "f = Figure()\n",
    "Axis(f[1, 1])\n",
    "errorbars!(data.x, data.y, data.sigma_y)\n",
    "scatter!(data.x, data.y, markersize=20, color=:red)\n",
    "\n",
    "yy_eye = xx .* m_eye .+ b_eye\n",
    "lines!(xx, yy_eye, color=:orange)\n",
    "\n",
    "yy_abs = xx .* m_abs .+ b_abs\n",
    "lines!(xx, yy_abs, color=:green)\n",
    "\n",
    "f"
   ]
  },
  {
   "cell_type": "code",
   "execution_count": null,
   "id": "processed-group",
   "metadata": {},
   "outputs": [],
   "source": []
  },
  {
   "cell_type": "code",
   "execution_count": null,
   "id": "binary-ranch",
   "metadata": {},
   "outputs": [],
   "source": [
    "function objective_abs(parameters, x, y, sigma)\n",
    "    b = parameters[1]\n",
    "    m = parameters[2]\n",
    "\n",
    "    y_pred = b .+ m .* x\n",
    "    \n",
    "    return -sum(\n",
    "        -log.(sigma * sqrt(2 * π)) .-0.5 .* (y .- y_pred).^2 / sigma.^2)\n",
    "end"
   ]
  },
  {
   "cell_type": "code",
   "execution_count": null,
   "id": "funny-spine",
   "metadata": {},
   "outputs": [],
   "source": [
    "#function shim(p)\n",
    "#    return objective_abs(p, data.x, data.y, data.sigma_y)\n",
    "#end"
   ]
  },
  {
   "cell_type": "code",
   "execution_count": null,
   "id": "coated-library",
   "metadata": {},
   "outputs": [],
   "source": [
    "starting_params = [b_eye + 0., m_eye]\n",
    "result = optimize(p -> objective_abs(p, data.x, data.y, data.sigma_y),\n",
    "                  starting_params)"
   ]
  },
  {
   "cell_type": "code",
   "execution_count": null,
   "id": "weekly-diving",
   "metadata": {},
   "outputs": [],
   "source": [
    "b_gauss, m_gauss = Optim.minimizer(result)"
   ]
  },
  {
   "cell_type": "code",
   "execution_count": null,
   "id": "small-guitar",
   "metadata": {},
   "outputs": [],
   "source": [
    "f = Figure()\n",
    "Axis(f[1, 1])\n",
    "errorbars!(data.x, data.y, data.sigma_y)\n",
    "scatter!(data.x, data.y, markersize=20, color=:red)\n",
    "\n",
    "yy_eye = xx .* m_eye .+ b_eye\n",
    "lines!(xx, yy_eye, color=:orange)\n",
    "\n",
    "yy_abs = xx .* m_abs .+ b_abs\n",
    "lines!(xx, yy_abs, color=:green)\n",
    "\n",
    "yy_gauss = xx .* m_gauss .+ b_gauss\n",
    "lines!(xx, yy_gauss, color=:purple, linewidth=3)\n",
    "\n",
    "f"
   ]
  },
  {
   "cell_type": "code",
   "execution_count": null,
   "id": "dominant-shark",
   "metadata": {},
   "outputs": [],
   "source": [
    "@show data.x;"
   ]
  },
  {
   "cell_type": "code",
   "execution_count": null,
   "id": "gorgeous-disability",
   "metadata": {},
   "outputs": [],
   "source": [
    "size(data, 1)"
   ]
  },
  {
   "cell_type": "code",
   "execution_count": null,
   "id": "direct-injection",
   "metadata": {},
   "outputs": [],
   "source": [
    "ndata = size(data,1)\n",
    "\n",
    "B_jack = zeros(ndata)\n",
    "M_jack = zeros(ndata)\n",
    "\n",
    "for i in 1:ndata\n",
    "    \n",
    "    xcopy = copy(data.x)\n",
    "    deleteat!(xcopy, i)\n",
    "\n",
    "    ycopy = copy(data.y)\n",
    "    deleteat!(ycopy, i)\n",
    "\n",
    "    scopy = copy(data.sigma_y)\n",
    "    deleteat!(scopy, i)\n",
    "\n",
    "    starting_params = [b_eye + 0., m_eye]\n",
    "    result = optimize(p -> objective_abs(p, xcopy, ycopy, scopy),\n",
    "                      starting_params)\n",
    "    @assert Optim.converged(result)\n",
    "    b_jack, m_jack = Optim.minimizer(result)\n",
    "    \n",
    "    B_jack[i] = b_jack\n",
    "    M_jack[i] = m_jack \n",
    "end"
   ]
  },
  {
   "cell_type": "code",
   "execution_count": null,
   "id": "graduate-fellow",
   "metadata": {},
   "outputs": [],
   "source": [
    "@assert 2+2 == 4"
   ]
  },
  {
   "cell_type": "code",
   "execution_count": null,
   "id": "identified-cigarette",
   "metadata": {},
   "outputs": [],
   "source": [
    "f = Figure()\n",
    "Axis(f[1, 1])\n",
    "errorbars!(data.x, data.y, data.sigma_y)\n",
    "scatter!(data.x, data.y, markersize=20, color=:red)\n",
    "\n",
    "for i in 1:ndata\n",
    "    yy_jack = xx .* M_jack[i] .+ B_jack[i]\n",
    "    lines!(xx, yy_jack, color=:green)\n",
    "end\n",
    "\n",
    "yy_gauss = xx .* m_gauss .+ b_gauss\n",
    "lines!(xx, yy_gauss, color=:purple, linewidth=3)\n",
    "\n",
    "f"
   ]
  },
  {
   "cell_type": "code",
   "execution_count": null,
   "id": "italic-movie",
   "metadata": {},
   "outputs": [],
   "source": [
    "f = Figure()\n",
    "Axis(f[1, 1])\n",
    "scatter!(B_jack, M_jack, markersize=20, color=:red)\n",
    "\n",
    "plot!([b_gauss], [m_gauss], markersize=30)\n",
    "\n",
    "f"
   ]
  },
  {
   "cell_type": "code",
   "execution_count": null,
   "id": "traditional-demand",
   "metadata": {},
   "outputs": [],
   "source": [
    "using Statistics"
   ]
  },
  {
   "cell_type": "code",
   "execution_count": null,
   "id": "civic-netherlands",
   "metadata": {},
   "outputs": [],
   "source": [
    "mean(B_jack), std(B_jack) .* sqrt((ndata - 1) / ndata)"
   ]
  },
  {
   "cell_type": "code",
   "execution_count": null,
   "id": "silent-lemon",
   "metadata": {},
   "outputs": [],
   "source": [
    "mean(M_jack), std(M_jack) .* sqrt((ndata - 1) / ndata)"
   ]
  },
  {
   "cell_type": "code",
   "execution_count": null,
   "id": "foster-theology",
   "metadata": {},
   "outputs": [],
   "source": []
  },
  {
   "cell_type": "code",
   "execution_count": null,
   "id": "planned-express",
   "metadata": {},
   "outputs": [],
   "source": []
  },
  {
   "cell_type": "code",
   "execution_count": null,
   "id": "deluxe-black",
   "metadata": {},
   "outputs": [],
   "source": []
  },
  {
   "cell_type": "code",
   "execution_count": null,
   "id": "charitable-internship",
   "metadata": {},
   "outputs": [],
   "source": []
  },
  {
   "cell_type": "code",
   "execution_count": null,
   "id": "streaming-multimedia",
   "metadata": {},
   "outputs": [],
   "source": [
    "f = Figure()\n",
    "Axis(f[1, 1])\n",
    "errorbars!(alldata.x, alldata.y, alldata.sigma_y)\n",
    "scatter!(alldata.x, alldata.y, markersize=20, color=:red)\n",
    "\n",
    "#for i in 1:ndata\n",
    "#    yy_jack = xx .* M_jack[i] .+ B_jack[i]\n",
    "#    lines!(xx, yy_jack, color=:green)\n",
    "#end\n",
    "#\n",
    "#yy_gauss = xx .* m_gauss .+ b_gauss\n",
    "#lines!(xx, yy_gauss, color=:purple, linewidth=3)\n",
    "\n",
    "f"
   ]
  },
  {
   "cell_type": "code",
   "execution_count": null,
   "id": "promising-consultation",
   "metadata": {},
   "outputs": [],
   "source": [
    "starting_params = [b_eye + 0., m_eye]\n",
    "result = optimize(p -> objective_abs(p, alldata.x, alldata.y, alldata.sigma_y),\n",
    "                  starting_params)\n",
    "@assert Optim.converged(result)\n",
    "b_bad, m_bad = Optim.minimizer(result)"
   ]
  },
  {
   "cell_type": "code",
   "execution_count": null,
   "id": "varied-edmonton",
   "metadata": {},
   "outputs": [],
   "source": [
    "f = Figure()\n",
    "Axis(f[1, 1])\n",
    "errorbars!(alldata.x, alldata.y, alldata.sigma_y)\n",
    "scatter!(alldata.x, alldata.y, markersize=20, color=:red)\n",
    "\n",
    "yy_bad = xx .* m_bad .+ b_bad\n",
    "lines!(xx, yy_bad, color=:purple, linewidth=3)\n",
    "\n",
    "f"
   ]
  },
  {
   "cell_type": "code",
   "execution_count": null,
   "id": "nutritional-gnome",
   "metadata": {},
   "outputs": [],
   "source": [
    "function objective_outliers(parameters, x, y, sigma)\n",
    "    b = parameters[1]\n",
    "    m = parameters[2]\n",
    "\n",
    "    frac_bad = 0.01\n",
    "    like_bad = frac_bad * (1. / 600.)\n",
    "\n",
    "    y_pred = b .+ m .* x\n",
    "    like_good = (1. - frac_bad) * 1 ./(sqrt(2*π) .* sigma) .* exp.(-0.5 * (y .- y_pred).^2 ./ sigma.^2)\n",
    "    like = like_bad .+ like_good\n",
    "    loglike = log.(like)\n",
    "\n",
    "    return -sum(loglike)\n",
    "end"
   ]
  },
  {
   "cell_type": "code",
   "execution_count": null,
   "id": "potential-george",
   "metadata": {},
   "outputs": [],
   "source": [
    "starting_params = [b_eye + 0., m_eye]\n",
    "result = optimize(p -> objective_outliers(p, alldata.x, alldata.y, alldata.sigma_y),\n",
    "                  starting_params)\n",
    "@assert Optim.converged(result)\n",
    "b_out, m_out = Optim.minimizer(result)"
   ]
  },
  {
   "cell_type": "code",
   "execution_count": null,
   "id": "union-coalition",
   "metadata": {},
   "outputs": [],
   "source": [
    "starting_params = [700 + 0., -0.5]\n",
    "result = optimize(p -> objective_outliers(p, alldata.x, alldata.y, alldata.sigma_y),\n",
    "                  starting_params)\n",
    "@assert Optim.converged(result)\n",
    "b_punk, m_punk = Optim.minimizer(result)"
   ]
  },
  {
   "cell_type": "code",
   "execution_count": null,
   "id": "neural-scott",
   "metadata": {},
   "outputs": [],
   "source": [
    "f = Figure()\n",
    "Axis(f[1, 1])\n",
    "errorbars!(alldata.x, alldata.y, alldata.sigma_y)\n",
    "scatter!(alldata.x, alldata.y, markersize=20, color=:red)\n",
    "\n",
    "yy_bad = xx .* m_bad .+ b_bad\n",
    "lines!(xx, yy_bad, color=:purple, linewidth=3)\n",
    "\n",
    "yy_out = xx .* m_out .+ b_out\n",
    "lines!(xx, yy_out, color=:green, linewidth=3)\n",
    "\n",
    "yy_punk = xx .* m_punk .+ b_punk\n",
    "lines!(xx, yy_punk, color=:blue, linewidth=3)\n",
    "\n",
    "f"
   ]
  },
  {
   "cell_type": "code",
   "execution_count": null,
   "id": "fresh-theology",
   "metadata": {},
   "outputs": [],
   "source": []
  }
 ],
 "metadata": {
  "kernelspec": {
   "display_name": "Julia 1.8.4",
   "language": "julia",
   "name": "julia-1.8"
  }
 },
 "nbformat": 4,
 "nbformat_minor": 5
}
